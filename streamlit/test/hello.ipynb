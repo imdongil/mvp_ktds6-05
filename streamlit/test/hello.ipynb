{
 "cells": [
  {
   "cell_type": "code",
   "execution_count": null,
   "metadata": {},
   "outputs": [],
   "source": [
    "documents"
   ]
  },
  {
   "cell_type": "code",
   "execution_count": 3,
   "metadata": {},
   "outputs": [
    {
     "name": "stdout",
     "output_type": "stream",
     "text": [
      "['지니 TV 기기는 유선인터넷 연결로 사용이 가능합니다. \\\\n 인터넷 연결은 TV화면을 켜고 천천히 음성 안내를 따라 연결하면 쉽게 연결하실 수 있습니다.', 'Android 및 iOS 앱 마켓에서 ‘기가지니’ 혹은 ‘KT GiGA Genie’를 검색하여\\\\n다운로드 받으시면 됩니다.', 'PIN번호는 지니 TV 기기를 인증하기 위해 입력하는 고유 숫자를 말합니다.\\\\n기가지니 앱에 나타나는 PIN번호를 TV에 리모컨을 이용하여 입력하면 지니 TV\\\\n기기가 인증됩니다.', '지니 TV는 KT 고객센터(100번) 및 KT플라자, 영업점을 통해서 STB 신청과 함께 가입가능합니다.', '서비스 이용이 안 될 때에는 인터넷 연결 확인과 지니 TV와 TV가 HDMI 케이블로 잘 연결이 되어 있는지 확인해 보시기 바랍니다.', '']\n"
     ]
    }
   ],
   "source": [
    "# 텍스트 파일 경로\n",
    "file_path = \"KT_KI1100.txt\"\n",
    "\n",
    "# 파일 읽기\n",
    "with open(file_path, \"r\", encoding=\"utf-8\") as file:\n",
    "    file_content = file.read()\n",
    "\n",
    "# 개행문자 기준으로 나누기\n",
    "lines = file_content.split(\"\\n\")\n",
    "\n",
    "# 배열 출력\n",
    "print(lines)"
   ]
  }
 ],
 "metadata": {
  "kernelspec": {
   "display_name": "Python 3",
   "language": "python",
   "name": "python3"
  },
  "language_info": {
   "codemirror_mode": {
    "name": "ipython",
    "version": 3
   },
   "file_extension": ".py",
   "mimetype": "text/x-python",
   "name": "python",
   "nbconvert_exporter": "python",
   "pygments_lexer": "ipython3",
   "version": "3.13.7"
  }
 },
 "nbformat": 4,
 "nbformat_minor": 2
}
