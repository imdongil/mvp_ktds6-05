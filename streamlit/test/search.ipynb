{
 "cells": [
  {
   "cell_type": "code",
   "execution_count": 2,
   "metadata": {},
   "outputs": [],
   "source": [
    "import requests\n",
    "import json"
   ]
  },
  {
   "cell_type": "code",
   "execution_count": null,
   "metadata": {},
   "outputs": [],
   "source": [
    "# API 엔드포인트 및 키\n",
    "api_url = \"https://api.example.com/search\"  # AI 검색 API 엔드포인트\n",
    "api_key = \"your_api_key_here\"  # API 키"
   ]
  },
  {
   "cell_type": "code",
   "execution_count": null,
   "metadata": {},
   "outputs": [],
   "source": [
    "# 검색 쿼리\n",
    "query = \"기가지니 홈이 무엇인가요?\"\n",
    "\n",
    "# 요청 헤더\n",
    "headers = {\"Content-Type\": \"application/json\", \"Authorization\": f\"Bearer {api_key}\"}\n",
    "\n",
    "# 요청 데이터\n",
    "payload = {\"query\": query, \"top_k\": 3}  # 검색 결과 개수\n",
    "\n",
    "# API 호출\n",
    "response = requests.post(api_url, headers=headers, data=json.dumps(payload))\n",
    "\n",
    "# 응답 처리\n",
    "if response.status_code == 200:\n",
    "    result = response.json()\n",
    "    print(\"검색 결과:\")\n",
    "    print(json.dumps(result, indent=4, ensure_ascii=False))\n",
    "else:\n",
    "    print(f\"API 호출 실패: {response.status_code}\")\n",
    "    print(response.text)"
   ]
  }
 ],
 "metadata": {
  "kernelspec": {
   "display_name": "Python 3",
   "language": "python",
   "name": "python3"
  },
  "language_info": {
   "codemirror_mode": {
    "name": "ipython",
    "version": 3
   },
   "file_extension": ".py",
   "mimetype": "text/x-python",
   "name": "python",
   "nbconvert_exporter": "python",
   "pygments_lexer": "ipython3",
   "version": "3.13.7"
  }
 },
 "nbformat": 4,
 "nbformat_minor": 2
}
